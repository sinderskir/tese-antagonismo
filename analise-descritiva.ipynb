{
 "cells": [
  {
   "cell_type": "markdown",
   "metadata": {},
   "source": [
    "## Análises descritivas"
   ]
  },
  {
   "cell_type": "code",
   "execution_count": 1,
   "metadata": {},
   "outputs": [],
   "source": [
    "import pandas as pd"
   ]
  },
  {
   "cell_type": "code",
   "execution_count": 2,
   "metadata": {},
   "outputs": [
    {
     "name": "stdout",
     "output_type": "stream",
     "text": [
      "    ANO           created_at         PARLAMENTAR POSICIONAMENTO PARTIDO  \\\n",
      "0  2022  2022/12/29 20:35:54  Deputados Federais         Centro    PROS   \n",
      "1  2022  2022/12/29 17:50:26  Deputados Federais         Centro    PROS   \n",
      "2  2022  2022/12/14 22:28:34  Deputados Federais         Centro    PROS   \n",
      "3  2022  2022/11/17 18:24:47  Deputados Federais         Centro    PROS   \n",
      "4  2022  2022/09/21 23:25:03  Deputados Federais         Centro    PROS   \n",
      "\n",
      "     screen_name                                               text is_quote  \\\n",
      "0  AcacioFavacho  Desejo sucesso ao Senador @randolfeap (Rede/AP...    FALSO   \n",
      "1  AcacioFavacho  Parabenizo o Governador do Amapá @Waldezoficia...    FALSO   \n",
      "2  AcacioFavacho  Um aumento absurdo de 36% na tarifa de energia...    FALSO   \n",
      "3  AcacioFavacho  Desejo ao governador @waldezoficial uma boa re...    FALSO   \n",
      "4  AcacioFavacho  FIM DO #ROLTAXATIVO\\nHoje, 21/09, foi sanciona...    FALSO   \n",
      "\n",
      "  is_retweet  favorite_count  ...  \\\n",
      "0      FALSO               6  ...   \n",
      "1      FALSO               1  ...   \n",
      "2      FALSO              12  ...   \n",
      "3      FALSO               1  ...   \n",
      "4      FALSO               3  ...   \n",
      "\n",
      "                                         description                      url  \\\n",
      "0  Casado com Gabrielly, pai de José Valentino, B...  https://t.co/QylRLqthNz   \n",
      "1  Casado com Gabrielly, pai de José Valentino, B...  https://t.co/QylRLqthNz   \n",
      "2  Casado com Gabrielly, pai de José Valentino, B...  https://t.co/QylRLqthNz   \n",
      "3  Casado com Gabrielly, pai de José Valentino, B...  https://t.co/QylRLqthNz   \n",
      "4  Casado com Gabrielly, pai de José Valentino, B...  https://t.co/QylRLqthNz   \n",
      "\n",
      "  followers_count friends_count listed_count statuses_count  favourites_count  \\\n",
      "0            4119           426           93           2609                11   \n",
      "1            4119           426           93           2609                11   \n",
      "2            4119           426           93           2609                11   \n",
      "3            4119           426           93           2609                11   \n",
      "4            4119           426           93           2609                11   \n",
      "\n",
      "    account_created_at  verified              profile_url  \n",
      "0  2009/10/27 14:53:28     FALSO  https://t.co/QylRLqthNz  \n",
      "1  2009/10/27 14:53:28     FALSO  https://t.co/QylRLqthNz  \n",
      "2  2009/10/27 14:53:28     FALSO  https://t.co/QylRLqthNz  \n",
      "3  2009/10/27 14:53:28     FALSO  https://t.co/QylRLqthNz  \n",
      "4  2009/10/27 14:53:28     FALSO  https://t.co/QylRLqthNz  \n",
      "\n",
      "[5 rows x 24 columns]\n"
     ]
    }
   ],
   "source": [
    "tese_df = pd.read_csv('bd_tese_ajustado.csv', encoding='utf-8', delimiter=';', header=0)\n",
    "print(tese_df.head())"
   ]
  },
  {
   "cell_type": "code",
   "execution_count": 7,
   "metadata": {},
   "outputs": [
    {
     "data": {
      "text/plain": [
       "PARLAMENTAR\n",
       "Deputados Federais    80.326765\n",
       "Senadores             18.369720\n",
       "Deputados federais     1.303514\n",
       "Name: proportion, dtype: float64"
      ]
     },
     "execution_count": 7,
     "metadata": {},
     "output_type": "execute_result"
    }
   ],
   "source": [
    "# Composição do corpus por tipo de parlamentar\n",
    "tese_df['PARLAMENTAR'].value_counts(normalize=True) * 100"
   ]
  },
  {
   "cell_type": "code",
   "execution_count": 17,
   "metadata": {},
   "outputs": [
    {
     "name": "stdout",
     "output_type": "stream",
     "text": [
      "ANO   PARLAMENTAR       \n",
      "2019  Deputados Federais     82147\n",
      "      Senadores              21607\n",
      "2020  Deputados Federais    127042\n",
      "      Senadores              28403\n",
      "2021  Deputados Federais    182580\n",
      "      Senadores              40049\n",
      "2022  Deputados Federais    274070\n",
      "      Deputados federais     10805\n",
      "      Senadores              62210\n",
      "dtype: int64\n"
     ]
    }
   ],
   "source": [
    "# Número de posts por parlamentar e por ano\n",
    "desc_ano = tese_df.groupby(['ANO', 'PARLAMENTAR']).size()\n",
    "print(desc_ano)"
   ]
  },
  {
   "cell_type": "code",
   "execution_count": 11,
   "metadata": {},
   "outputs": [
    {
     "name": "stdout",
     "output_type": "stream",
     "text": [
      "    ANO         PARLAMENTAR  Porcentagem\n",
      "0  2019  Deputados Federais    79.174779\n",
      "1  2019           Senadores    20.825221\n",
      "2  2020  Deputados Federais    81.727942\n",
      "3  2020           Senadores    18.272058\n",
      "4  2021  Deputados Federais    82.010879\n",
      "5  2021           Senadores    17.989121\n",
      "6  2022  Deputados Federais    78.963366\n",
      "7  2022  Deputados federais     3.113070\n",
      "8  2022           Senadores    17.923563\n"
     ]
    }
   ],
   "source": [
    "# Porcentagem para número de posts por parlamentar e por ano\n",
    "desc_ano_porcent = tese_df.groupby(['ANO', 'PARLAMENTAR']).size() / tese_df.groupby('ANO').size()\n",
    "desc_ano_porcent = (desc_ano * 100).reset_index(name='Porcentagem')\n",
    "print(desc_ano_porcent)"
   ]
  },
  {
   "cell_type": "code",
   "execution_count": 32,
   "metadata": {},
   "outputs": [
    {
     "name": "stdout",
     "output_type": "stream",
     "text": [
      "ANO   PARLAMENTAR         screen_name    \n",
      "2019  Deputados Federais  10ronaldomartin     530\n",
      "                          23rubensbueno       437\n",
      "                          AcacioFavacho        40\n",
      "                          Alan_Rick           151\n",
      "                          Alceu_Moreira       311\n",
      "                                             ... \n",
      "2022  Senadores           tassojereissati     137\n",
      "                          telmariomotarr      127\n",
      "                          venezianovital     1894\n",
      "                          wevertonrocha       740\n",
      "                          zenaidern           390\n",
      "Length: 1679, dtype: int64\n"
     ]
    }
   ],
   "source": [
    "# Número de parlamentares que publicaram em cada ano, por tipo\n",
    "desc_tipo = tese_df.groupby(['ANO', 'PARLAMENTAR', 'screen_name']).size()\n",
    "print(desc_tipo)"
   ]
  },
  {
   "cell_type": "code",
   "execution_count": 34,
   "metadata": {},
   "outputs": [
    {
     "name": "stdout",
     "output_type": "stream",
     "text": [
      "ANO   PARLAMENTAR       \n",
      "2019  Deputados Federais    290\n",
      "      Senadores              52\n",
      "2020  Deputados Federais    332\n",
      "      Senadores              61\n",
      "2021  Deputados Federais    382\n",
      "      Senadores              71\n",
      "2022  Deputados Federais    411\n",
      "      Deputados federais      2\n",
      "      Senadores              78\n",
      "Name: screen_name, dtype: int64\n"
     ]
    }
   ],
   "source": [
    "desc_tipo = tese_df.groupby(['ANO', 'PARLAMENTAR'])['screen_name'].nunique()\n",
    "print(desc_tipo)"
   ]
  }
 ],
 "metadata": {
  "kernelspec": {
   "display_name": "Python 3",
   "language": "python",
   "name": "python3"
  },
  "language_info": {
   "codemirror_mode": {
    "name": "ipython",
    "version": 3
   },
   "file_extension": ".py",
   "mimetype": "text/x-python",
   "name": "python",
   "nbconvert_exporter": "python",
   "pygments_lexer": "ipython3",
   "version": "3.10.11"
  },
  "orig_nbformat": 4
 },
 "nbformat": 4,
 "nbformat_minor": 2
}
