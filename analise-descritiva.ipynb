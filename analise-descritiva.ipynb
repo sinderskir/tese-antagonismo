{
 "cells": [
  {
   "cell_type": "markdown",
   "metadata": {},
   "source": [
    "## Análises descritivas"
   ]
  },
  {
   "cell_type": "code",
   "execution_count": 1,
   "metadata": {},
   "outputs": [],
   "source": [
    "import pandas as pd"
   ]
  },
  {
   "cell_type": "code",
   "execution_count": 3,
   "metadata": {},
   "outputs": [
    {
     "name": "stdout",
     "output_type": "stream",
     "text": [
      "    ANO           created_at         PARLAMENTAR POSICIONAMENTO PARTIDO  \\\n",
      "0  2022  2022/12/29 20:35:54  Deputados Federais         Centro    PROS   \n",
      "1  2022  2022/12/29 17:50:26  Deputados Federais         Centro    PROS   \n",
      "2  2022  2022/12/14 22:28:34  Deputados Federais         Centro    PROS   \n",
      "3  2022  2022/11/17 18:24:47  Deputados Federais         Centro    PROS   \n",
      "4  2022  2022/09/21 23:25:03  Deputados Federais         Centro    PROS   \n",
      "\n",
      "     screen_name                                               text is_quote  \\\n",
      "0  AcacioFavacho  Desejo sucesso ao Senador @randolfeap (Rede/AP...    FALSO   \n",
      "1  AcacioFavacho  Parabenizo o Governador do Amapá @Waldezoficia...    FALSO   \n",
      "2  AcacioFavacho  Um aumento absurdo de 36% na tarifa de energia...    FALSO   \n",
      "3  AcacioFavacho  Desejo ao governador @waldezoficial uma boa re...    FALSO   \n",
      "4  AcacioFavacho  FIM DO #ROLTAXATIVO\\nHoje, 21/09, foi sanciona...    FALSO   \n",
      "\n",
      "  is_retweet  favorite_count  ...  \\\n",
      "0      FALSO               6  ...   \n",
      "1      FALSO               1  ...   \n",
      "2      FALSO              12  ...   \n",
      "3      FALSO               1  ...   \n",
      "4      FALSO               3  ...   \n",
      "\n",
      "                                         description                      url  \\\n",
      "0  Casado com Gabrielly, pai de José Valentino, B...  https://t.co/QylRLqthNz   \n",
      "1  Casado com Gabrielly, pai de José Valentino, B...  https://t.co/QylRLqthNz   \n",
      "2  Casado com Gabrielly, pai de José Valentino, B...  https://t.co/QylRLqthNz   \n",
      "3  Casado com Gabrielly, pai de José Valentino, B...  https://t.co/QylRLqthNz   \n",
      "4  Casado com Gabrielly, pai de José Valentino, B...  https://t.co/QylRLqthNz   \n",
      "\n",
      "  followers_count friends_count listed_count statuses_count  favourites_count  \\\n",
      "0            4119           426           93           2609                11   \n",
      "1            4119           426           93           2609                11   \n",
      "2            4119           426           93           2609                11   \n",
      "3            4119           426           93           2609                11   \n",
      "4            4119           426           93           2609                11   \n",
      "\n",
      "    account_created_at  verified              profile_url  \n",
      "0  2009/10/27 14:53:28     FALSO  https://t.co/QylRLqthNz  \n",
      "1  2009/10/27 14:53:28     FALSO  https://t.co/QylRLqthNz  \n",
      "2  2009/10/27 14:53:28     FALSO  https://t.co/QylRLqthNz  \n",
      "3  2009/10/27 14:53:28     FALSO  https://t.co/QylRLqthNz  \n",
      "4  2009/10/27 14:53:28     FALSO  https://t.co/QylRLqthNz  \n",
      "\n",
      "[5 rows x 24 columns]\n"
     ]
    }
   ],
   "source": [
    "tese_df = pd.read_csv('bd_tese_ajustado.csv', encoding='utf-8', delimiter=';', header=0)\n",
    "print(tese_df.head())"
   ]
  },
  {
   "cell_type": "code",
   "execution_count": 8,
   "metadata": {},
   "outputs": [
    {
     "data": {
      "text/plain": [
       "POSICIONAMENTO\n",
       "Centro-esquerda     26.068598\n",
       "Centro              22.279057\n",
       "Centro-direita      15.965729\n",
       "Extrema-direita     13.825335\n",
       "Esquerda             9.515956\n",
       "Direita              9.428131\n",
       "Extrema-esquerda     2.917194\n",
       "Name: proportion, dtype: float64"
      ]
     },
     "execution_count": 8,
     "metadata": {},
     "output_type": "execute_result"
    }
   ],
   "source": [
    "tese_df['POSICIONAMENTO'].value_counts(normalize=True) * 100"
   ]
  },
  {
   "cell_type": "code",
   "execution_count": 10,
   "metadata": {},
   "outputs": [],
   "source": [
    "desc_ano = tese_df.groupby(['ANO', 'POSICIONAMENTO']).size() / tese_df.groupby('ANO').size()\n",
    "desc_ano = (desc_ano * 100).reset_index(name='Porcentagem')"
   ]
  },
  {
   "cell_type": "code",
   "execution_count": 11,
   "metadata": {},
   "outputs": [
    {
     "name": "stdout",
     "output_type": "stream",
     "text": [
      "     ANO    POSICIONAMENTO  Porcentagem\n",
      "0   2019            Centro    33.564007\n",
      "1   2019    Centro-direita    23.657883\n",
      "2   2019   Centro-esquerda    13.402857\n",
      "3   2019           Direita    14.781117\n",
      "4   2019          Esquerda     3.486131\n",
      "5   2019   Extrema-direita    10.249243\n",
      "6   2019  Extrema-esquerda     0.858762\n",
      "7   2020            Centro    30.843707\n",
      "8   2020    Centro-direita    17.636463\n",
      "9   2020   Centro-esquerda    19.388851\n",
      "10  2020           Direita    10.891955\n",
      "11  2020          Esquerda     5.743511\n",
      "12  2020   Extrema-direita    14.511242\n",
      "13  2020  Extrema-esquerda     0.984271\n",
      "14  2021            Centro    21.064192\n",
      "15  2021    Centro-direita    14.197611\n",
      "16  2021   Centro-esquerda    25.528570\n",
      "17  2021           Direita     9.962763\n",
      "18  2021          Esquerda    11.115353\n",
      "19  2021   Extrema-direita    14.789178\n",
      "20  2021  Extrema-esquerda     3.342332\n",
      "21  2022            Centro    15.849144\n",
      "22  2022    Centro-direita    14.052177\n",
      "23  2022   Centro-esquerda    33.192734\n",
      "24  2022           Direita     6.829451\n",
      "25  2022          Esquerda    11.982079\n",
      "26  2022   Extrema-direita    13.968913\n",
      "27  2022  Extrema-esquerda     4.125502\n"
     ]
    }
   ],
   "source": [
    "print(desc_ano)"
   ]
  }
 ],
 "metadata": {
  "kernelspec": {
   "display_name": "Python 3",
   "language": "python",
   "name": "python3"
  },
  "language_info": {
   "codemirror_mode": {
    "name": "ipython",
    "version": 3
   },
   "file_extension": ".py",
   "mimetype": "text/x-python",
   "name": "python",
   "nbconvert_exporter": "python",
   "pygments_lexer": "ipython3",
   "version": "3.10.11"
  },
  "orig_nbformat": 4
 },
 "nbformat": 4,
 "nbformat_minor": 2
}
