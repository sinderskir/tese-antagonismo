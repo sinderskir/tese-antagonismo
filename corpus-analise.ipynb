{
 "cells": [
  {
   "cell_type": "markdown",
   "metadata": {},
   "source": [
    "## Formando corpus para análise de conteúdo\n",
    "\n",
    "Usando 'pandas' para limpar o df com termos estatisticamente relevantes e filtrar banco de dados original."
   ]
  },
  {
   "cell_type": "code",
   "execution_count": 2,
   "metadata": {},
   "outputs": [],
   "source": [
    "import pandas as pd"
   ]
  },
  {
   "cell_type": "code",
   "execution_count": 16,
   "metadata": {},
   "outputs": [],
   "source": [
    "df = pd.read_csv('termos-relevantes.csv', encoding='utf-8', delimiter=';', header=0)"
   ]
  },
  {
   "cell_type": "code",
   "execution_count": 20,
   "metadata": {},
   "outputs": [
    {
     "name": "stdout",
     "output_type": "stream",
     "text": [
      "                    banco palavras_relevantes\n",
      "0       dep-direita-limpo                 não\n",
      "1       dep-direita-limpo                  se\n",
      "2       dep-direita-limpo                lula\n",
      "3       dep-direita-limpo       partidonovo30\n",
      "4       dep-direita-limpo               dizer\n",
      "...                   ...                 ...\n",
      "2632  corpus-sen-esquerda           homicídio\n",
      "2633  corpus-sen-esquerda                agir\n",
      "2634  corpus-sen-esquerda          divulgação\n",
      "2635  corpus-sen-esquerda           suspender\n",
      "2636  corpus-sen-esquerda        fiscalização\n",
      "\n",
      "[2637 rows x 2 columns]\n"
     ]
    }
   ],
   "source": [
    "print(df)"
   ]
  },
  {
   "cell_type": "code",
   "execution_count": 18,
   "metadata": {},
   "outputs": [],
   "source": [
    "# Extrair a coluna contendo as palavras\n",
    "coluna_termos = df['palavras_relevantes']\n",
    "\n",
    "# Remover palavras duplicadas\n",
    "termos = coluna_termos.drop_duplicates()"
   ]
  },
  {
   "cell_type": "code",
   "execution_count": null,
   "metadata": {},
   "outputs": [],
   "source": [
    "termos = termos.reset_index(drop=True)"
   ]
  },
  {
   "cell_type": "code",
   "execution_count": 19,
   "metadata": {},
   "outputs": [
    {
     "name": "stdout",
     "output_type": "stream",
     "text": [
      "0                 não\n",
      "1                  se\n",
      "2                lula\n",
      "3       partidonovo30\n",
      "4               dizer\n",
      "            ...      \n",
      "2624           otávio\n",
      "2626        exercício\n",
      "2634       divulgação\n",
      "2635        suspender\n",
      "2636     fiscalização\n",
      "Name: palavras_relevantes, Length: 1350, dtype: object\n"
     ]
    }
   ],
   "source": [
    "print(termos)"
   ]
  },
  {
   "cell_type": "code",
   "execution_count": 21,
   "metadata": {},
   "outputs": [],
   "source": [
    "# Criando um novo df com os termos relevantes únicos (depois de ter apagado os repetidos)\n",
    "termos = pd.DataFrame({'termos-relevantes-unicos': termos})\n",
    "\n",
    "# Save the unique words to a new CSV file\n",
    "termos.to_csv('termos-relevantes-unicos.csv', index=False)"
   ]
  },
  {
   "cell_type": "markdown",
   "metadata": {},
   "source": [
    "### Criando um banco de dados filtrado pelos termos relevantes"
   ]
  },
  {
   "cell_type": "code",
   "execution_count": 3,
   "metadata": {},
   "outputs": [],
   "source": [
    "# Lendo o banco de dados da tese\n",
    "tese_df = pd.read_csv('bd_tese_ajustado.csv', encoding='utf-8', delimiter=';', header=0)\n",
    "\n",
    "# Lendo o .csv com os termos relevantes\n",
    "termos_relevantes = pd.read_csv('termos-relevantes-unicos.csv')"
   ]
  },
  {
   "cell_type": "code",
   "execution_count": 4,
   "metadata": {},
   "outputs": [
    {
     "name": "stdout",
     "output_type": "stream",
     "text": [
      "  termos-relevantes-unicos\n",
      "0                      não\n",
      "1                       se\n",
      "2                     lula\n",
      "3            partidonovo30\n",
      "4                    dizer\n"
     ]
    }
   ],
   "source": [
    "print(termos_relevantes.head())"
   ]
  },
  {
   "cell_type": "code",
   "execution_count": 6,
   "metadata": {},
   "outputs": [
    {
     "name": "stdout",
     "output_type": "stream",
     "text": [
      "    ANO           created_at         PARLAMENTAR POSICIONAMENTO PARTIDO  \\\n",
      "0  2022  2022/12/29 20:35:54  Deputados Federais         Centro    PROS   \n",
      "1  2022  2022/12/29 17:50:26  Deputados Federais         Centro    PROS   \n",
      "2  2022  2022/12/14 22:28:34  Deputados Federais         Centro    PROS   \n",
      "3  2022  2022/11/17 18:24:47  Deputados Federais         Centro    PROS   \n",
      "4  2022  2022/09/21 23:25:03  Deputados Federais         Centro    PROS   \n",
      "\n",
      "     screen_name                                               text is_quote  \\\n",
      "0  AcacioFavacho  Desejo sucesso ao Senador @randolfeap (Rede/AP...    FALSO   \n",
      "1  AcacioFavacho  Parabenizo o Governador do Amapá @Waldezoficia...    FALSO   \n",
      "2  AcacioFavacho  Um aumento absurdo de 36% na tarifa de energia...    FALSO   \n",
      "3  AcacioFavacho  Desejo ao governador @waldezoficial uma boa re...    FALSO   \n",
      "4  AcacioFavacho  FIM DO #ROLTAXATIVO\\nHoje, 21/09, foi sanciona...    FALSO   \n",
      "\n",
      "  is_retweet  favorite_count  ...  \\\n",
      "0      FALSO               6  ...   \n",
      "1      FALSO               1  ...   \n",
      "2      FALSO              12  ...   \n",
      "3      FALSO               1  ...   \n",
      "4      FALSO               3  ...   \n",
      "\n",
      "                                         description                      url  \\\n",
      "0  Casado com Gabrielly, pai de José Valentino, B...  https://t.co/QylRLqthNz   \n",
      "1  Casado com Gabrielly, pai de José Valentino, B...  https://t.co/QylRLqthNz   \n",
      "2  Casado com Gabrielly, pai de José Valentino, B...  https://t.co/QylRLqthNz   \n",
      "3  Casado com Gabrielly, pai de José Valentino, B...  https://t.co/QylRLqthNz   \n",
      "4  Casado com Gabrielly, pai de José Valentino, B...  https://t.co/QylRLqthNz   \n",
      "\n",
      "  followers_count friends_count listed_count statuses_count  favourites_count  \\\n",
      "0            4119           426           93           2609                11   \n",
      "1            4119           426           93           2609                11   \n",
      "2            4119           426           93           2609                11   \n",
      "3            4119           426           93           2609                11   \n",
      "4            4119           426           93           2609                11   \n",
      "\n",
      "    account_created_at  verified              profile_url  \n",
      "0  2009/10/27 14:53:28     FALSO  https://t.co/QylRLqthNz  \n",
      "1  2009/10/27 14:53:28     FALSO  https://t.co/QylRLqthNz  \n",
      "2  2009/10/27 14:53:28     FALSO  https://t.co/QylRLqthNz  \n",
      "3  2009/10/27 14:53:28     FALSO  https://t.co/QylRLqthNz  \n",
      "4  2009/10/27 14:53:28     FALSO  https://t.co/QylRLqthNz  \n",
      "\n",
      "[5 rows x 24 columns]\n"
     ]
    }
   ],
   "source": [
    "print(tese_df.head())"
   ]
  },
  {
   "cell_type": "code",
   "execution_count": 7,
   "metadata": {},
   "outputs": [],
   "source": [
    "# Criando uma lista com os termos relevantes\n",
    "lista_termos = termos_relevantes['termos-relevantes-unicos'].tolist()"
   ]
  },
  {
   "cell_type": "code",
   "execution_count": 8,
   "metadata": {},
   "outputs": [],
   "source": [
    "# Usando `.str.contains` pra filtrar os tweets do tese_df\n",
    "tweets_analise_df = tese_df[tese_df['text'].str.contains('|'.join(lista_termos), case=False)]"
   ]
  },
  {
   "cell_type": "code",
   "execution_count": 11,
   "metadata": {},
   "outputs": [
    {
     "data": {
      "text/plain": [
       "814051"
      ]
     },
     "execution_count": 11,
     "metadata": {},
     "output_type": "execute_result"
    }
   ],
   "source": [
    "len(tweets_analise_df)"
   ]
  },
  {
   "cell_type": "code",
   "execution_count": 10,
   "metadata": {},
   "outputs": [],
   "source": [
    "tweets_analise_df.to_csv('bd_analise_tweets.csv', index=False)"
   ]
  }
 ],
 "metadata": {
  "kernelspec": {
   "display_name": "Python 3",
   "language": "python",
   "name": "python3"
  },
  "language_info": {
   "codemirror_mode": {
    "name": "ipython",
    "version": 3
   },
   "file_extension": ".py",
   "mimetype": "text/x-python",
   "name": "python",
   "nbconvert_exporter": "python",
   "pygments_lexer": "ipython3",
   "version": "3.10.11"
  },
  "orig_nbformat": 4
 },
 "nbformat": 4,
 "nbformat_minor": 2
}
