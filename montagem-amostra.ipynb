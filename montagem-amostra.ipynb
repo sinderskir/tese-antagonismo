{
 "cells": [
  {
   "cell_type": "code",
   "execution_count": 13,
   "metadata": {},
   "outputs": [],
   "source": [
    "import pandas as pd"
   ]
  },
  {
   "cell_type": "markdown",
   "metadata": {},
   "source": [
    "## Representação de parlamentares no corpus"
   ]
  },
  {
   "cell_type": "code",
   "execution_count": 21,
   "metadata": {},
   "outputs": [
    {
     "name": "stdout",
     "output_type": "stream",
     "text": [
      "Contagem de cada categoria:\n",
      "name\n",
      "Eduardo Bolsonaro🇧🇷    5966\n",
      "Tabata Amaral          4334\n",
      "Carla Zambelli         4279\n",
      "Valmir Assunção        3501\n",
      "Carla Zambelli 2210    3284\n",
      "                       ... \n",
      "deputado vermelho         4\n",
      "Guilherme Mussi           4\n",
      "Ricardo Guidi             3\n",
      "Cláudio Cajado            2\n",
      "Genecias Noronha          1\n",
      "Name: count, Length: 526, dtype: int64\n",
      "\n",
      "Proporção de cada categoria:\n",
      "name\n",
      "Eduardo Bolsonaro🇧🇷    0.010634\n",
      "Tabata Amaral          0.007725\n",
      "Carla Zambelli         0.007627\n",
      "Valmir Assunção        0.006240\n",
      "Carla Zambelli 2210    0.005854\n",
      "                         ...   \n",
      "deputado vermelho      0.000007\n",
      "Guilherme Mussi        0.000007\n",
      "Ricardo Guidi          0.000005\n",
      "Cláudio Cajado         0.000004\n",
      "Genecias Noronha       0.000002\n",
      "Name: proportion, Length: 526, dtype: float64\n",
      "\n",
      "Porcentagem de cada categoria:\n",
      "name\n",
      "Eduardo Bolsonaro🇧🇷    1.063403\n",
      "Tabata Amaral          0.772509\n",
      "Carla Zambelli         0.762706\n",
      "Valmir Assunção        0.624032\n",
      "Carla Zambelli 2210    0.585353\n",
      "                         ...   \n",
      "deputado vermelho      0.000713\n",
      "Guilherme Mussi        0.000713\n",
      "Ricardo Guidi          0.000535\n",
      "Cláudio Cajado         0.000356\n",
      "Genecias Noronha       0.000178\n",
      "Name: proportion, Length: 526, dtype: float64\n"
     ]
    }
   ],
   "source": [
    "# Carregar o arquivo .xlsx em um DataFrame\n",
    "df = pd.read_excel('bd_analise_tweets.xlsx')\n",
    "\n",
    "# Calcular a contagem de cada categoria\n",
    "contagem_categorias = df['name'].value_counts()\n",
    "\n",
    "# Calcular a proporção de cada categoria\n",
    "proporcao_categorias = df['name'].value_counts(normalize=True)\n",
    "\n",
    "# Calcular a porcentagem de cada categoria\n",
    "porcentagem_categorias = proporcao_categorias * 100\n",
    "\n",
    "# Exibir os resultados\n",
    "print(\"Contagem de cada categoria:\")\n",
    "print(contagem_categorias)\n",
    "print(\"\\nProporção de cada categoria:\")\n",
    "print(proporcao_categorias)\n",
    "print(\"\\nPorcentagem de cada categoria:\")\n",
    "print(porcentagem_categorias)"
   ]
  },
  {
   "cell_type": "code",
   "execution_count": 22,
   "metadata": {},
   "outputs": [
    {
     "name": "stdout",
     "output_type": "stream",
     "text": [
      "\n",
      "Porcentagem de cada categoria:\n",
      "name\n",
      "Eduardo Bolsonaro🇧🇷    1.063403\n",
      "Tabata Amaral          0.772509\n",
      "Carla Zambelli         0.762706\n",
      "Valmir Assunção        0.624032\n",
      "Carla Zambelli 2210    0.585353\n",
      "                         ...   \n",
      "deputado vermelho      0.000713\n",
      "Guilherme Mussi        0.000713\n",
      "Ricardo Guidi          0.000535\n",
      "Cláudio Cajado         0.000356\n",
      "Genecias Noronha       0.000178\n",
      "Name: proportion, Length: 526, dtype: float64\n"
     ]
    }
   ],
   "source": [
    "print(\"\\nPorcentagem de cada categoria:\")\n",
    "print(porcentagem_categorias)"
   ]
  },
  {
   "cell_type": "code",
   "execution_count": 23,
   "metadata": {},
   "outputs": [
    {
     "name": "stdout",
     "output_type": "stream",
     "text": [
      "Resultados salvos com sucesso em 'resultados.xlsx'.\n"
     ]
    }
   ],
   "source": [
    "# Criar um DataFrame com contagem e porcentagem\n",
    "resultados = pd.DataFrame({'Contagem': contagem_categorias, 'Porcentagem': porcentagem_categorias})\n",
    "\n",
    "# Salvar os resultados em um novo arquivo Excel\n",
    "resultados.to_excel('resultados.xlsx')\n",
    "\n",
    "print(\"Resultados salvos com sucesso em 'resultados.xlsx'.\")"
   ]
  },
  {
   "cell_type": "markdown",
   "metadata": {},
   "source": [
    "## Formação da amostra estratificada"
   ]
  },
  {
   "cell_type": "code",
   "execution_count": 27,
   "metadata": {},
   "outputs": [
    {
     "name": "stdout",
     "output_type": "stream",
     "text": [
      "Amostra Estratificada:\n",
      "          ANO          created_at         PARLAMENTAR GOVERNISMO  \\\n",
      "344074  20190 2019-09-24 13:27:57  Deputados Federais        qt1   \n",
      "333617  20190 2019-06-04 19:38:48  Deputados Federais        qt1   \n",
      "336883  20190 2019-11-04 21:50:06  Deputados Federais        qt1   \n",
      "368401  20190 2019-02-24 20:53:18  Deputados Federais        qt1   \n",
      "367380  20190 2019-08-07 14:48:34  Deputados Federais        qt1   \n",
      "\n",
      "       POSICIONAMENTO POSICIONAMENTO.1 PARTIDO      screen_name  \\\n",
      "344074         Centro           Centro     PSD   franciscojr_go   \n",
      "333617         Centro           Centro    PSDB   carlossampaio_   \n",
      "336883         Centro           Centro    PSDB   TrzeciakDaniel   \n",
      "368401         Centro           Centro    PSDB  vanderleimacris   \n",
      "367380         Centro           Centro    PROS  deputadotoninho   \n",
      "\n",
      "                                                     text is_quote  ...  \\\n",
      "344074  Entrevista ao vivo para a TV Canção Nova. Hoje...    FALSO  ...   \n",
      "333617  Lula pediu que o relator das ações da Lava Jat...    FALSO  ...   \n",
      "336883  Como 2º vice-presidente da Comissão Especial n...    FALSO  ...   \n",
      "368401  Domingo de convenção do #psdbamericana. Roger ...    FALSO  ...   \n",
      "367380  Hoje a Lei Maria da Penha completa 13 anos - u...    FALSO  ...   \n",
      "\n",
      "                                              description  \\\n",
      "344074  VOTE 5️⃣5️⃣5️⃣5️⃣ Deputado Federal-PSD/GO, Pre...   \n",
      "333617  Deputado Federal e Procurador de Justiça do Es...   \n",
      "336883  Jornalista, Bacharel em Direito e Deputado Fed...   \n",
      "368401                     Deputado Federal pelo PSDB-SP.   \n",
      "367380  Deputado Federal (PP). Paranaense, sou engenhe...   \n",
      "\n",
      "                            url  followers_count friends_count listed_count  \\\n",
      "344074  https://t.co/P6mWR7XS55            57990          9610         1020   \n",
      "333617                      NaN          1086290         17030         4170   \n",
      "336883  https://t.co/ysJHLnJTPI            31930          2540          820   \n",
      "368401  https://t.co/zZ9QrwgDg3            82200          5370         2680   \n",
      "367380  https://t.co/SaOuybM12g            12530          4250         1480   \n",
      "\n",
      "       statuses_count favourites_count  account_created_at    verified  \\\n",
      "344074          53250             6260 2010-06-24 14:00:45  VERDADEIRO   \n",
      "333617          39760            17150 2010-05-17 18:12:40  VERDADEIRO   \n",
      "336883          65910            11500 2009-12-18 03:28:36  VERDADEIRO   \n",
      "368401         128630            70150 2009-04-22 15:04:05       FALSO   \n",
      "367380          46900             6630 2010-07-14 02:56:34       FALSO   \n",
      "\n",
      "                    profile_url  \n",
      "344074  https://t.co/P6mWR7XS55  \n",
      "333617                      NaN  \n",
      "336883  https://t.co/ysJHLnJTPI  \n",
      "368401  https://t.co/zZ9QrwgDg3  \n",
      "367380  https://t.co/SaOuybM12g  \n",
      "\n",
      "[5 rows x 26 columns]\n",
      "Amostra estratificada salva com sucesso em 'amostra_estratificada_multivariada.xlsx'.\n"
     ]
    }
   ],
   "source": [
    "# Carregar o arquivo .xlsx em um DataFrame\n",
    "df = pd.read_excel('bd_analise_tweets.xlsx')\n",
    "\n",
    "# Definir o tamanho da amostra desejada\n",
    "tamanho_amostra_desejado = 1843\n",
    "\n",
    "# Calcular as proporções de cada combinação de ANO, PARLAMENTAR e POSICIONAMENTO\n",
    "proporcoes = df.groupby(['ANO', 'PARLAMENTAR', 'POSICIONAMENTO']).size() / len(df)\n",
    "\n",
    "# Calcular o número de linhas necessário para cada combinação para atingir o tamanho da amostra desejado\n",
    "tamanho_amostra_por_combinacao = (proporcoes * tamanho_amostra_desejado).round().astype(int)\n",
    "\n",
    "# Inicializar um DataFrame vazio para armazenar a amostra estratificada\n",
    "amostra_estratificada = pd.DataFrame()\n",
    "\n",
    "# Iterar sobre cada combinação\n",
    "for combinacao, tamanho in tamanho_amostra_por_combinacao.items():\n",
    "    # Selecionar uma amostra aleatória de tamanho `tamanho` para a combinação atual\n",
    "    amostra_combinacao = df[(df['ANO'] == combinacao[0]) & \n",
    "                            (df['PARLAMENTAR'] == combinacao[1]) & \n",
    "                            (df['POSICIONAMENTO'] == combinacao[2])].sample(tamanho, replace=True)\n",
    "    # Concatenar a amostra da combinação atual ao DataFrame de amostra estratificada\n",
    "    amostra_estratificada = pd.concat([amostra_estratificada, amostra_combinacao])\n",
    "\n",
    "# Verificar o tamanho da amostra e, se necessário, ajustar para atingir o tamanho desejado\n",
    "diferenca_tamanho = tamanho_amostra_desejado - len(amostra_estratificada)\n",
    "if diferenca_tamanho > 0:\n",
    "    # Adicionar observações adicionais aleatoriamente de todo o DataFrame\n",
    "    amostra_adicional = df.sample(n=diferenca_tamanho, replace=True)\n",
    "    # Concatenar a amostra adicional ao DataFrame de amostra estratificada\n",
    "    amostra_estratificada = pd.concat([amostra_estratificada, amostra_adicional])\n",
    "\n",
    "# Se a amostra for maior do que o tamanho desejado, reduzir aleatoriamente o tamanho da amostra\n",
    "elif diferenca_tamanho < 0:\n",
    "    # Remover aleatoriamente observações extras do DataFrame de amostra estratificada\n",
    "    amostra_estratificada = amostra_estratificada.sample(n=tamanho_amostra_desejado, replace=False)\n",
    "\n",
    "# Exibir a amostra estratificada\n",
    "print(\"Amostra Estratificada:\")\n",
    "print(amostra_estratificada.head())\n",
    "\n",
    "# Salvar a amostra estratificada em um novo arquivo Excel\n",
    "amostra_estratificada.to_excel('amostra_estratificada_multivariada.xlsx')\n",
    "\n",
    "print(\"Amostra estratificada salva com sucesso em 'amostra_estratificada_multivariada.xlsx'.\")"
   ]
  }
 ],
 "metadata": {
  "kernelspec": {
   "display_name": "Python 3",
   "language": "python",
   "name": "python3"
  },
  "language_info": {
   "codemirror_mode": {
    "name": "ipython",
    "version": 3
   },
   "file_extension": ".py",
   "mimetype": "text/x-python",
   "name": "python",
   "nbconvert_exporter": "python",
   "pygments_lexer": "ipython3",
   "version": "3.11.9"
  }
 },
 "nbformat": 4,
 "nbformat_minor": 2
}
