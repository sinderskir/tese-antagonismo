{
 "cells": [
  {
   "cell_type": "markdown",
   "metadata": {},
   "source": [
    "# Limpando o corpus 🧼\n",
    "\n",
    "Usando RegEx para formatar o corpus da pesquisa antes de submetê-lo ao método de Reinert no Iramuteq.\n",
    "\n",
    "A library `re` identifica e substitui 🥸 strings dentro do documento `.txt`."
   ]
  },
  {
   "cell_type": "code",
   "execution_count": 4,
   "metadata": {},
   "outputs": [],
   "source": [
    "import re"
   ]
  },
  {
   "cell_type": "markdown",
   "metadata": {},
   "source": [
    "### Tweets de deputados do qt1"
   ]
  },
  {
   "cell_type": "code",
   "execution_count": 10,
   "metadata": {},
   "outputs": [],
   "source": [
    "def clean_text(input_file, output_file):\n",
    "    with open(input_file, 'r', encoding='utf-8') as f:\n",
    "        text = f.read()\n",
    "\n",
    "    # Remove @, *, #, /, :\n",
    "    text = re.sub(r'[@*#/:]', '', text)\n",
    "\n",
    "    # Substitui novas linhas com espaço simples\n",
    "    text = text.replace('\\n', ' ')\n",
    "\n",
    "    # Remove espaços iniciais e finais\n",
    "    text = text.strip()\n",
    "\n",
    "    # Remove múltiplos espaços\n",
    "    text = re.sub(r' {2,}', ' ', text)\n",
    "\n",
    "    with open(output_file, 'w', encoding='utf-8') as f:\n",
    "        f.write(text)\n",
    "\n",
    "input_file = 'depqt1.txt'\n",
    "output_file = 'depqt1-limpo.txt'\n",
    "clean_text(input_file, output_file)"
   ]
  },
  {
   "cell_type": "markdown",
   "metadata": {},
   "source": [
    "### Tweets de deputados qt2"
   ]
  },
  {
   "cell_type": "code",
   "execution_count": 11,
   "metadata": {},
   "outputs": [],
   "source": [
    "def clean_text(input_file, output_file):\n",
    "    with open(input_file, 'r', encoding='utf-8') as f:\n",
    "        text = f.read()\n",
    "\n",
    "    # Remove @, *, #, /, :\n",
    "    text = re.sub(r'[@*#/:]', '', text)\n",
    "\n",
    "    # Substitui novas linhas com espaço simples\n",
    "    text = text.replace('\\n', ' ')\n",
    "\n",
    "    # Remove espaços iniciais e finais\n",
    "    text = text.strip()\n",
    "\n",
    "    # Remove múltiplos espaços\n",
    "    text = re.sub(r' {2,}', ' ', text)\n",
    "\n",
    "    with open(output_file, 'w', encoding='utf-8') as f:\n",
    "        f.write(text)\n",
    "\n",
    "input_file = 'depqt2.txt'\n",
    "output_file = 'depqt2-limpo.txt'\n",
    "clean_text(input_file, output_file)"
   ]
  },
  {
   "cell_type": "markdown",
   "metadata": {},
   "source": [
    "### Tweets de deputados do qt3"
   ]
  },
  {
   "cell_type": "code",
   "execution_count": 12,
   "metadata": {},
   "outputs": [],
   "source": [
    "def clean_text(input_file, output_file):\n",
    "    with open(input_file, 'r', encoding='utf-8') as f:\n",
    "        text = f.read()\n",
    "\n",
    "    # Remove @, *, #, /, :\n",
    "    text = re.sub(r'[@*#/:]', '', text)\n",
    "\n",
    "    # Substitui novas linhas com espaço simples\n",
    "    text = text.replace('\\n', ' ')\n",
    "\n",
    "    # Remove espaços iniciais e finais\n",
    "    text = text.strip()\n",
    "\n",
    "    # Remove múltiplos espaços\n",
    "    text = re.sub(r' {2,}', ' ', text)\n",
    "\n",
    "    with open(output_file, 'w', encoding='utf-8') as f:\n",
    "        f.write(text)\n",
    "\n",
    "input_file = 'depqt3.txt'\n",
    "output_file = 'depqt3-limpo.txt'\n",
    "clean_text(input_file, output_file)"
   ]
  },
  {
   "cell_type": "markdown",
   "metadata": {},
   "source": [
    "### Tweets de deputados do qt4"
   ]
  },
  {
   "cell_type": "code",
   "execution_count": 13,
   "metadata": {},
   "outputs": [],
   "source": [
    "def clean_text(input_file, output_file):\n",
    "    with open(input_file, 'r', encoding='utf-8') as f:\n",
    "        text = f.read()\n",
    "\n",
    "    # Remove @, *, #, /, :\n",
    "    text = re.sub(r'[@*#/:]', '', text)\n",
    "\n",
    "    # Substitui novas linhas com espaço simples\n",
    "    text = text.replace('\\n', ' ')\n",
    "\n",
    "    # Remove espaços iniciais e finais\n",
    "    text = text.strip()\n",
    "\n",
    "    # Remove múltiplos espaços\n",
    "    text = re.sub(r' {2,}', ' ', text)\n",
    "\n",
    "    with open(output_file, 'w', encoding='utf-8') as f:\n",
    "        f.write(text)\n",
    "\n",
    "input_file = 'depqt4.txt'\n",
    "output_file = 'depqt4.-limpo.txt'\n",
    "clean_text(input_file, output_file)"
   ]
  },
  {
   "cell_type": "markdown",
   "metadata": {},
   "source": [
    "### Tweets senadores do qt1"
   ]
  },
  {
   "cell_type": "code",
   "execution_count": 14,
   "metadata": {},
   "outputs": [],
   "source": [
    "def clean_text(input_file, output_file):\n",
    "    with open(input_file, 'r', encoding='utf-8') as f:\n",
    "        text = f.read()\n",
    "\n",
    "    # Remove @, *, #, /, :\n",
    "    text = re.sub(r'[@*#/:]', '', text)\n",
    "\n",
    "    # Substitui novas linhas com espaço simples\n",
    "    text = text.replace('\\n', ' ')\n",
    "\n",
    "    # Remove espaços iniciais e finais\n",
    "    text = text.strip()\n",
    "\n",
    "    # Remove múltiplos espaços\n",
    "    text = re.sub(r' {2,}', ' ', text)\n",
    "\n",
    "    with open(output_file, 'w', encoding='utf-8') as f:\n",
    "        f.write(text)\n",
    "\n",
    "input_file = 'senqt1.txt'\n",
    "output_file = 'senqt1-limpo.txt'\n",
    "clean_text(input_file, output_file)"
   ]
  },
  {
   "cell_type": "markdown",
   "metadata": {},
   "source": [
    "### Tweets de senadores do qt2"
   ]
  },
  {
   "cell_type": "code",
   "execution_count": 15,
   "metadata": {},
   "outputs": [],
   "source": [
    "def clean_text(input_file, output_file):\n",
    "    with open(input_file, 'r', encoding='utf-8') as f:\n",
    "        text = f.read()\n",
    "\n",
    "    # Remove @, *, #, /, :\n",
    "    text = re.sub(r'[@*#/:]', '', text)\n",
    "\n",
    "    # Substitui novas linhas com espaço simples\n",
    "    text = text.replace('\\n', ' ')\n",
    "\n",
    "    # Remove espaços iniciais e finais\n",
    "    text = text.strip()\n",
    "\n",
    "    # Remove múltiplos espaços\n",
    "    text = re.sub(r' {2,}', ' ', text)\n",
    "\n",
    "    with open(output_file, 'w', encoding='utf-8') as f:\n",
    "        f.write(text)\n",
    "\n",
    "input_file = 'senqt2.txt'\n",
    "output_file = 'senqt2-limpo.txt'\n",
    "clean_text(input_file, output_file)"
   ]
  },
  {
   "cell_type": "markdown",
   "metadata": {},
   "source": [
    "### Tweets de senadores do qt3"
   ]
  },
  {
   "cell_type": "code",
   "execution_count": 24,
   "metadata": {},
   "outputs": [],
   "source": [
    "def clean_text(input_file, output_file):\n",
    "    with open(input_file, 'r', encoding='utf-8') as f:\n",
    "        text = f.read()\n",
    "\n",
    "    # Remove @, *, #, /, :\n",
    "    text = re.sub(r'[@*#/:]', '', text)\n",
    "\n",
    "    # Substitui novas linhas com espaço simples\n",
    "    text = text.replace('\\n', ' ')\n",
    "\n",
    "    # Remove espaços iniciais e finais\n",
    "    text = text.strip()\n",
    "\n",
    "    # Remove múltiplos espaços\n",
    "    text = re.sub(r' {2,}', ' ', text)\n",
    "\n",
    "    with open(output_file, 'w', encoding='utf-8') as f:\n",
    "        f.write(text)\n",
    "\n",
    "input_file = 'senqt3.txt'\n",
    "output_file = 'senqt3-limpo.txt'\n",
    "clean_text(input_file, output_file)"
   ]
  },
  {
   "cell_type": "markdown",
   "metadata": {},
   "source": [
    "### Tweets de senadores do qt4"
   ]
  },
  {
   "cell_type": "code",
   "execution_count": 25,
   "metadata": {},
   "outputs": [],
   "source": [
    "def clean_text(input_file, output_file):\n",
    "    with open(input_file, 'r', encoding='utf-8') as f:\n",
    "        text = f.read()\n",
    "\n",
    "    # Remove @, *, #, /, :\n",
    "    text = re.sub(r'[@*#/:]', '', text)\n",
    "\n",
    "    # Substitui novas linhas com espaço simples\n",
    "    text = text.replace('\\n', ' ')\n",
    "\n",
    "    # Remove espaços iniciais e finais\n",
    "    text = text.strip()\n",
    "\n",
    "    # Remove múltiplos espaços\n",
    "    text = re.sub(r' {2,}', ' ', text)\n",
    "\n",
    "    with open(output_file, 'w', encoding='utf-8') as f:\n",
    "        f.write(text)\n",
    "\n",
    "input_file = 'senqt4.txt'\n",
    "output_file = 'senqt4-limpo.txt'\n",
    "clean_text(input_file, output_file)"
   ]
  },
  {
   "cell_type": "markdown",
   "metadata": {},
   "source": [
    "### Ajustando arquivos\n",
    "\n",
    "Alguns arquivos são muito grandes para serem abertos e editados. Por isso, tentei adicionar as categorizações para a Classificação Hierárquica Descendente (CHD) usando Python."
   ]
  },
  {
   "cell_type": "code",
   "execution_count": 7,
   "metadata": {},
   "outputs": [],
   "source": [
    "# Teste com um arquivo menor, que eu posso abrir e conferir\n",
    "# Lendo o conteúdo existente no arquivo\n",
    "with open('senqt1-limpo.txt', 'r', encoding='utf-8') as arquivo:\n",
    "    cont_original = arquivo.read()\n",
    "\n",
    "# Abrindo o arquivo em write mode pra subscrever o conteúdo\n",
    "with open('senqt1-limpo.txt', 'w', encoding='utf-8') as arquivo:\n",
    "    # Write the new content at the beginning\n",
    "    novo = \"**** *tw_sen *tese\\n\" \\\n",
    "                  \"**** *qt1\\n\"\n",
    "    \n",
    "    # Combinando o novo conteúdo com o existente\n",
    "    cont_novo = novo + cont_original\n",
    "    \n",
    "    # Escrevendo o conteúdo combinado de volta no arquivo\n",
    "    arquivo.write(cont_novo)\n",
    "\n",
    "    # FUNCIONA!"
   ]
  },
  {
   "cell_type": "code",
   "execution_count": 8,
   "metadata": {},
   "outputs": [],
   "source": [
    "with open('depqt1-limpo.txt', 'r', encoding='utf-8') as arquivo:\n",
    "    cont_original = arquivo.read()\n",
    "\n",
    "with open('depqt1-limpo.txt', 'w', encoding='utf-8') as arquivo:\n",
    "    novo = \"**** *tw_dep *tese\\n\" \\\n",
    "                  \"**** *qt1\\n\"\n",
    "    \n",
    "    cont_novo = novo + cont_original\n",
    "    \n",
    "    arquivo.write(cont_novo)"
   ]
  },
  {
   "cell_type": "code",
   "execution_count": 9,
   "metadata": {},
   "outputs": [],
   "source": [
    "with open('depqt2-limpo.txt', 'r', encoding='utf-8') as arquivo:\n",
    "    cont_original = arquivo.read()\n",
    "\n",
    "with open('depqt2-limpo.txt', 'w', encoding='utf-8') as arquivo:\n",
    "    novo = \"**** *tw_dep *tese\\n\" \\\n",
    "                  \"**** *qt2\\n\"\n",
    "    \n",
    "    cont_novo = novo + cont_original\n",
    "    \n",
    "    arquivo.write(cont_novo)"
   ]
  },
  {
   "cell_type": "code",
   "execution_count": null,
   "metadata": {},
   "outputs": [],
   "source": [
    "with open('depqt3-limpo.txt', 'r', encoding='utf-8') as arquivo:\n",
    "    cont_original = arquivo.read()\n",
    "\n",
    "with open('depqt3-limpo.txt', 'w', encoding='utf-8') as arquivo:\n",
    "    novo = \"**** *tw_dep *tese\\n\" \\\n",
    "                  \"**** *qt3\\n\"\n",
    "    \n",
    "    cont_novo = novo + cont_original\n",
    "    \n",
    "    arquivo.write(cont_novo)"
   ]
  },
  {
   "cell_type": "code",
   "execution_count": null,
   "metadata": {},
   "outputs": [],
   "source": [
    "with open('depqt4-limpo.txt', 'r', encoding='utf-8') as arquivo:\n",
    "    cont_original = arquivo.read()\n",
    "\n",
    "with open('depqt4-limpo.txt', 'w', encoding='utf-8') as arquivo:\n",
    "    novo = \"**** *tw_dep *tese\\n\" \\\n",
    "                  \"**** *qt4\\n\"\n",
    "    \n",
    "    cont_novo = novo + cont_original\n",
    "    \n",
    "    arquivo.write(cont_novo)"
   ]
  },
  {
   "cell_type": "code",
   "execution_count": null,
   "metadata": {},
   "outputs": [],
   "source": [
    "with open('senqt2-limpo.txt', 'r', encoding='utf-8') as arquivo:\n",
    "    cont_original = arquivo.read()\n",
    "\n",
    "with open('senqt2-limpo.txt', 'w', encoding='utf-8') as arquivo:\n",
    "    novo = \"**** *tw_sen *tese\\n\" \\\n",
    "                  \"**** *qt2\\n\"\n",
    "    \n",
    "    cont_novo = novo + cont_original\n",
    "    \n",
    "    arquivo.write(cont_novo)"
   ]
  },
  {
   "cell_type": "code",
   "execution_count": null,
   "metadata": {},
   "outputs": [],
   "source": [
    "with open('senqt3-limpo.txt', 'r', encoding='utf-8') as arquivo:\n",
    "    cont_original = arquivo.read()\n",
    "\n",
    "with open('senqt3-limpo.txt', 'w', encoding='utf-8') as arquivo:\n",
    "    novo = \"**** *tw_sen *tese\\n\" \\\n",
    "                  \"**** *qt3\\n\"\n",
    "    \n",
    "    cont_novo = novo + cont_original\n",
    "    \n",
    "    arquivo.write(cont_novo)"
   ]
  },
  {
   "cell_type": "code",
   "execution_count": null,
   "metadata": {},
   "outputs": [],
   "source": [
    "with open('senqt4-limpo.txt', 'r', encoding='utf-8') as arquivo:\n",
    "    cont_original = arquivo.read()\n",
    "\n",
    "with open('senqt2-limpo.txt', 'w', encoding='utf-8') as arquivo:\n",
    "    novo = \"**** *tw_sen *tese\\n\" \\\n",
    "                  \"**** *qt4\\n\"\n",
    "    \n",
    "    cont_novo = novo + cont_original\n",
    "    \n",
    "    arquivo.write(cont_novo)"
   ]
  },
  {
   "cell_type": "markdown",
   "metadata": {},
   "source": [
    "## Unindo os arquivos\n",
    "\n",
    "Unindo os arquivos em um só corpus."
   ]
  },
  {
   "cell_type": "code",
   "execution_count": 14,
   "metadata": {},
   "outputs": [],
   "source": [
    "# Arquivos dos deputados\n",
    "\n",
    "def unite_text_files(file1, file2, file3, file4, output_file):\n",
    "    with open(file1, 'r', encoding='utf-8') as f1:\n",
    "        content1 = f1.read()\n",
    "\n",
    "    with open(file2, 'r', encoding='utf-8') as f2:\n",
    "        content2 = f2.read()\n",
    "\n",
    "    with open(file3, 'r', encoding='utf-8') as f3:\n",
    "        content3 = f3.read()\n",
    "\n",
    "    with open(file4, 'r', encoding='utf-8') as f4:\n",
    "        content4 = f4.read()\n",
    "\n",
    "    combined_content = content1 + content2 + content3 + content4\n",
    "\n",
    "    with open(output_file, 'w', encoding='utf-8') as output_f:\n",
    "        output_f.write(combined_content)\n",
    "\n",
    "file1 = 'depqt1-limpo.txt'\n",
    "file2 = 'depqt2-limpo.txt'\n",
    "file3 = 'depqt3-limpo.txt'\n",
    "file4 = 'depqt4-limpo.txt'\n",
    "output_file = 'corpus-deps.txt'\n",
    "\n",
    "unite_text_files(file1, file2, file3, file4, output_file)"
   ]
  },
  {
   "cell_type": "code",
   "execution_count": 15,
   "metadata": {},
   "outputs": [],
   "source": [
    "# Arquivos dos senadores\n",
    "\n",
    "def unite_text_files(file1, file2, file3, file4, output_file):\n",
    "    with open(file1, 'r', encoding='utf-8') as f1:\n",
    "        content1 = f1.read()\n",
    "\n",
    "    with open(file2, 'r', encoding='utf-8') as f2:\n",
    "        content2 = f2.read()\n",
    "\n",
    "    with open(file3, 'r', encoding='utf-8') as f3:\n",
    "        content3 = f3.read()\n",
    "\n",
    "    with open(file4, 'r', encoding='utf-8') as f4:\n",
    "        content4 = f4.read()\n",
    "\n",
    "    combined_content = content1 + content2 + content3 + content4\n",
    "\n",
    "    with open(output_file, 'w', encoding='utf-8') as output_f:\n",
    "        output_f.write(combined_content)\n",
    "\n",
    "file1 = 'senqt1-limpo.txt'\n",
    "file2 = 'senqt2-limpo.txt'\n",
    "file3 = 'senqt3-limpo.txt'\n",
    "file4 = 'senqt4-limpo.txt'\n",
    "output_file = 'corpus-sens.txt'\n",
    "\n",
    "unite_text_files(file1, file2, file3, file4, output_file)"
   ]
  },
  {
   "cell_type": "code",
   "execution_count": null,
   "metadata": {},
   "outputs": [],
   "source": [
    "# Arquivos corpus total\n",
    "\n",
    "def unite_text_files(file1, file2, output_file):\n",
    "    with open(file1, 'r', encoding='utf-8') as f1:\n",
    "        content1 = f1.read()\n",
    "\n",
    "    with open(file2, 'r', encoding='utf-8') as f2:\n",
    "        content2 = f2.read()\n",
    "\n",
    "    combined_content = content1 + content2\n",
    "\n",
    "    with open(output_file, 'w', encoding='utf-8') as output_f:\n",
    "        output_f.write(combined_content)\n",
    "\n",
    "file1 = 'corpus-deps.txt'\n",
    "file2 = 'corpus-sens.txt'\n",
    "output_file = 'corpus-total.txt'\n",
    "\n",
    "unite_text_files(file1, file2, output_file)"
   ]
  },
  {
   "cell_type": "code",
   "execution_count": null,
   "metadata": {},
   "outputs": [],
   "source": [
    "corpus = 'corpus-total.txt'\n",
    "\n",
    "# Abre o arquivo no modo de leitura ('r' para leitura) com o codec 'utf-8'\n",
    "with open(corpus, 'r', encoding='utf-8') as arquivo:\n",
    "    conteudo = arquivo.read()\n",
    "    print(conteudo)"
   ]
  }
 ],
 "metadata": {
  "kernelspec": {
   "display_name": "Python 3",
   "language": "python",
   "name": "python3"
  },
  "language_info": {
   "codemirror_mode": {
    "name": "ipython",
    "version": 3
   },
   "file_extension": ".py",
   "mimetype": "text/x-python",
   "name": "python",
   "nbconvert_exporter": "python",
   "pygments_lexer": "ipython3",
   "version": "3.10.11"
  },
  "orig_nbformat": 4
 },
 "nbformat": 4,
 "nbformat_minor": 2
}
