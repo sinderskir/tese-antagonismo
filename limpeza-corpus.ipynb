{
 "cells": [
  {
   "cell_type": "markdown",
   "metadata": {},
   "source": [
    "# Limpando o corpus 🧼\n",
    "\n",
    "Usando RegEx para formatar o corpus da pesquisa antes de submetê-lo ao método de Reinert no Iramuteq.\n",
    "\n",
    "A library `re` identifica e substitui 🥸 strings dentro do documento `.txt`."
   ]
  },
  {
   "cell_type": "code",
   "execution_count": 4,
   "metadata": {},
   "outputs": [],
   "source": [
    "import re"
   ]
  },
  {
   "cell_type": "markdown",
   "metadata": {},
   "source": [
    "### Tweets de deputados do centro"
   ]
  },
  {
   "cell_type": "code",
   "execution_count": 10,
   "metadata": {},
   "outputs": [],
   "source": [
    "def clean_text(input_file, output_file):\n",
    "    with open(input_file, 'r', encoding='utf-8') as f:\n",
    "        text = f.read()\n",
    "\n",
    "    # Remove @, *, #, /, :\n",
    "    text = re.sub(r'[@*#/:]', '', text)\n",
    "\n",
    "    # Substitui novas linhas com espaço simples\n",
    "    text = text.replace('\\n', ' ')\n",
    "\n",
    "    # Remove espaços iniciais e finais\n",
    "    text = text.strip()\n",
    "\n",
    "    # Remove múltiplos espaços\n",
    "    text = re.sub(r' {2,}', ' ', text)\n",
    "\n",
    "    with open(output_file, 'w', encoding='utf-8') as f:\n",
    "        f.write(text)\n",
    "\n",
    "input_file = 'dep-centro.txt'\n",
    "output_file = 'dep-centro-limpo.txt'\n",
    "clean_text(input_file, output_file)"
   ]
  },
  {
   "cell_type": "markdown",
   "metadata": {},
   "source": [
    "### Tweets de senadores do centro"
   ]
  },
  {
   "cell_type": "code",
   "execution_count": 11,
   "metadata": {},
   "outputs": [],
   "source": [
    "def clean_text(input_file, output_file):\n",
    "    with open(input_file, 'r', encoding='utf-8') as f:\n",
    "        text = f.read()\n",
    "\n",
    "    # Remove @, *, #, /, :\n",
    "    text = re.sub(r'[@*#/:]', '', text)\n",
    "\n",
    "    # Substitui novas linhas com espaço simples\n",
    "    text = text.replace('\\n', ' ')\n",
    "\n",
    "    # Remove espaços iniciais e finais\n",
    "    text = text.strip()\n",
    "\n",
    "    # Remove múltiplos espaços\n",
    "    text = re.sub(r' {2,}', ' ', text)\n",
    "\n",
    "    with open(output_file, 'w', encoding='utf-8') as f:\n",
    "        f.write(text)\n",
    "\n",
    "input_file = 'sen-centro.txt'\n",
    "output_file = 'sen-centro-limpo.txt'\n",
    "clean_text(input_file, output_file)"
   ]
  },
  {
   "cell_type": "markdown",
   "metadata": {},
   "source": [
    "### Tweets de deputados de centro-direita"
   ]
  },
  {
   "cell_type": "code",
   "execution_count": 12,
   "metadata": {},
   "outputs": [],
   "source": [
    "def clean_text(input_file, output_file):\n",
    "    with open(input_file, 'r', encoding='utf-8') as f:\n",
    "        text = f.read()\n",
    "\n",
    "    # Remove @, *, #, /, :\n",
    "    text = re.sub(r'[@*#/:]', '', text)\n",
    "\n",
    "    # Substitui novas linhas com espaço simples\n",
    "    text = text.replace('\\n', ' ')\n",
    "\n",
    "    # Remove espaços iniciais e finais\n",
    "    text = text.strip()\n",
    "\n",
    "    # Remove múltiplos espaços\n",
    "    text = re.sub(r' {2,}', ' ', text)\n",
    "\n",
    "    with open(output_file, 'w', encoding='utf-8') as f:\n",
    "        f.write(text)\n",
    "\n",
    "input_file = 'dep-cdireita.txt'\n",
    "output_file = 'dep-cdireita-limpo.txt'\n",
    "clean_text(input_file, output_file)"
   ]
  },
  {
   "cell_type": "markdown",
   "metadata": {},
   "source": [
    "### Tweets de senadores de centro-direita"
   ]
  },
  {
   "cell_type": "code",
   "execution_count": 13,
   "metadata": {},
   "outputs": [],
   "source": [
    "def clean_text(input_file, output_file):\n",
    "    with open(input_file, 'r', encoding='utf-8') as f:\n",
    "        text = f.read()\n",
    "\n",
    "    # Remove @, *, #, /, :\n",
    "    text = re.sub(r'[@*#/:]', '', text)\n",
    "\n",
    "    # Substitui novas linhas com espaço simples\n",
    "    text = text.replace('\\n', ' ')\n",
    "\n",
    "    # Remove espaços iniciais e finais\n",
    "    text = text.strip()\n",
    "\n",
    "    # Remove múltiplos espaços\n",
    "    text = re.sub(r' {2,}', ' ', text)\n",
    "\n",
    "    with open(output_file, 'w', encoding='utf-8') as f:\n",
    "        f.write(text)\n",
    "\n",
    "input_file = 'sen-cdireita.txt'\n",
    "output_file = 'sen-cdireita-limpo.txt'\n",
    "clean_text(input_file, output_file)"
   ]
  },
  {
   "cell_type": "markdown",
   "metadata": {},
   "source": [
    "### Tweets de deputados de direita"
   ]
  },
  {
   "cell_type": "code",
   "execution_count": 14,
   "metadata": {},
   "outputs": [],
   "source": [
    "def clean_text(input_file, output_file):\n",
    "    with open(input_file, 'r', encoding='utf-8') as f:\n",
    "        text = f.read()\n",
    "\n",
    "    # Remove @, *, #, /, :\n",
    "    text = re.sub(r'[@*#/:]', '', text)\n",
    "\n",
    "    # Substitui novas linhas com espaço simples\n",
    "    text = text.replace('\\n', ' ')\n",
    "\n",
    "    # Remove espaços iniciais e finais\n",
    "    text = text.strip()\n",
    "\n",
    "    # Remove múltiplos espaços\n",
    "    text = re.sub(r' {2,}', ' ', text)\n",
    "\n",
    "    with open(output_file, 'w', encoding='utf-8') as f:\n",
    "        f.write(text)\n",
    "\n",
    "input_file = 'dep-direita.txt'\n",
    "output_file = 'dep-direita-limpo.txt'\n",
    "clean_text(input_file, output_file)"
   ]
  },
  {
   "cell_type": "markdown",
   "metadata": {},
   "source": [
    "### Tweets de senadores de direita"
   ]
  },
  {
   "cell_type": "code",
   "execution_count": 15,
   "metadata": {},
   "outputs": [],
   "source": [
    "def clean_text(input_file, output_file):\n",
    "    with open(input_file, 'r', encoding='utf-8') as f:\n",
    "        text = f.read()\n",
    "\n",
    "    # Remove @, *, #, /, :\n",
    "    text = re.sub(r'[@*#/:]', '', text)\n",
    "\n",
    "    # Substitui novas linhas com espaço simples\n",
    "    text = text.replace('\\n', ' ')\n",
    "\n",
    "    # Remove espaços iniciais e finais\n",
    "    text = text.strip()\n",
    "\n",
    "    # Remove múltiplos espaços\n",
    "    text = re.sub(r' {2,}', ' ', text)\n",
    "\n",
    "    with open(output_file, 'w', encoding='utf-8') as f:\n",
    "        f.write(text)\n",
    "\n",
    "input_file = 'sen-direita.txt'\n",
    "output_file = 'sen-direita-limpo.txt'\n",
    "clean_text(input_file, output_file)"
   ]
  },
  {
   "cell_type": "markdown",
   "metadata": {},
   "source": [
    "### Tweets de deputados de extrema-direita"
   ]
  },
  {
   "cell_type": "code",
   "execution_count": 24,
   "metadata": {},
   "outputs": [],
   "source": [
    "def clean_text(input_file, output_file):\n",
    "    with open(input_file, 'r', encoding='utf-8') as f:\n",
    "        text = f.read()\n",
    "\n",
    "    # Remove @, *, #, /, :\n",
    "    text = re.sub(r'[@*#/:]', '', text)\n",
    "\n",
    "    # Substitui novas linhas com espaço simples\n",
    "    text = text.replace('\\n', ' ')\n",
    "\n",
    "    # Remove espaços iniciais e finais\n",
    "    text = text.strip()\n",
    "\n",
    "    # Remove múltiplos espaços\n",
    "    text = re.sub(r' {2,}', ' ', text)\n",
    "\n",
    "    with open(output_file, 'w', encoding='utf-8') as f:\n",
    "        f.write(text)\n",
    "\n",
    "input_file = 'dep-exdireita.txt'\n",
    "output_file = 'dep-exdireita-limpo.txt'\n",
    "clean_text(input_file, output_file)"
   ]
  },
  {
   "cell_type": "markdown",
   "metadata": {},
   "source": [
    "### Tweets de senadores de extrema-direita"
   ]
  },
  {
   "cell_type": "code",
   "execution_count": 25,
   "metadata": {},
   "outputs": [],
   "source": [
    "def clean_text(input_file, output_file):\n",
    "    with open(input_file, 'r', encoding='utf-8') as f:\n",
    "        text = f.read()\n",
    "\n",
    "    # Remove @, *, #, /, :\n",
    "    text = re.sub(r'[@*#/:]', '', text)\n",
    "\n",
    "    # Substitui novas linhas com espaço simples\n",
    "    text = text.replace('\\n', ' ')\n",
    "\n",
    "    # Remove espaços iniciais e finais\n",
    "    text = text.strip()\n",
    "\n",
    "    # Remove múltiplos espaços\n",
    "    text = re.sub(r' {2,}', ' ', text)\n",
    "\n",
    "    with open(output_file, 'w', encoding='utf-8') as f:\n",
    "        f.write(text)\n",
    "\n",
    "input_file = 'sen-exdireita.txt'\n",
    "output_file = 'sen-exdireita-limpo.txt'\n",
    "clean_text(input_file, output_file)"
   ]
  },
  {
   "cell_type": "markdown",
   "metadata": {},
   "source": [
    "### Tweets de deputados de centro-esquerda"
   ]
  },
  {
   "cell_type": "code",
   "execution_count": 5,
   "metadata": {},
   "outputs": [],
   "source": [
    "def clean_text(input_file, output_file):\n",
    "    with open(input_file, 'r', encoding='utf-8') as f:\n",
    "        text = f.read()\n",
    "\n",
    "    # Remove @, *, #, /, :\n",
    "    text = re.sub(r'[@*#/:]', '', text)\n",
    "\n",
    "    # Substitui novas linhas com espaço simples\n",
    "    text = text.replace('\\n', ' ')\n",
    "\n",
    "    # Remove espaços iniciais e finais\n",
    "    text = text.strip()\n",
    "\n",
    "    # Remove múltiplos espaços\n",
    "    text = re.sub(r' {2,}', ' ', text)\n",
    "\n",
    "    with open(output_file, 'w', encoding='utf-8') as f:\n",
    "        f.write(text)\n",
    "\n",
    "input_file = 'dep-cesquerda.txt'\n",
    "output_file = 'dep-cesquerda-limpo.txt'\n",
    "clean_text(input_file, output_file)"
   ]
  },
  {
   "cell_type": "markdown",
   "metadata": {},
   "source": [
    "### Tweets de senadores de centro-esquerda"
   ]
  },
  {
   "cell_type": "code",
   "execution_count": 17,
   "metadata": {},
   "outputs": [],
   "source": [
    "def clean_text(input_file, output_file):\n",
    "    with open(input_file, 'r', encoding='utf-8') as f:\n",
    "        text = f.read()\n",
    "\n",
    "    # Remove @, *, #, /, :\n",
    "    text = re.sub(r'[@*#/:]', '', text)\n",
    "\n",
    "    # Substitui novas linhas com espaço simples\n",
    "    text = text.replace('\\n', ' ')\n",
    "\n",
    "    # Remove espaços iniciais e finais\n",
    "    text = text.strip()\n",
    "\n",
    "    # Remove múltiplos espaços\n",
    "    text = re.sub(r' {2,}', ' ', text)\n",
    "\n",
    "    with open(output_file, 'w', encoding='utf-8') as f:\n",
    "        f.write(text)\n",
    "\n",
    "input_file = 'sen-cesquerda.txt'\n",
    "output_file = 'sen-cesquerda-limpo.txt'\n",
    "clean_text(input_file, output_file)"
   ]
  },
  {
   "cell_type": "markdown",
   "metadata": {},
   "source": [
    "### Tweets de deputados de esquerda"
   ]
  },
  {
   "cell_type": "code",
   "execution_count": 18,
   "metadata": {},
   "outputs": [],
   "source": [
    "def clean_text(input_file, output_file):\n",
    "    with open(input_file, 'r', encoding='utf-8') as f:\n",
    "        text = f.read()\n",
    "\n",
    "    # Remove @, *, #, /, :\n",
    "    text = re.sub(r'[@*#/:]', '', text)\n",
    "\n",
    "    # Substitui novas linhas com espaço simples\n",
    "    text = text.replace('\\n', ' ')\n",
    "\n",
    "    # Remove espaços iniciais e finais\n",
    "    text = text.strip()\n",
    "\n",
    "    # Remove múltiplos espaços\n",
    "    text = re.sub(r' {2,}', ' ', text)\n",
    "\n",
    "    with open(output_file, 'w', encoding='utf-8') as f:\n",
    "        f.write(text)\n",
    "\n",
    "input_file = 'dep-esquerda.txt'\n",
    "output_file = 'dep-esquerda-limpo.txt'\n",
    "clean_text(input_file, output_file)"
   ]
  },
  {
   "cell_type": "markdown",
   "metadata": {},
   "source": [
    "### Tweets de senadores de esquerda"
   ]
  },
  {
   "cell_type": "code",
   "execution_count": 20,
   "metadata": {},
   "outputs": [],
   "source": [
    "def clean_text(input_file, output_file):\n",
    "    with open(input_file, 'r', encoding='utf-8') as f:\n",
    "        text = f.read()\n",
    "\n",
    "    # Remove @, *, #, /, :\n",
    "    text = re.sub(r'[@*#/:]', '', text)\n",
    "\n",
    "    # Substitui novas linhas com espaço simples\n",
    "    text = text.replace('\\n', ' ')\n",
    "\n",
    "    # Remove espaços iniciais e finais\n",
    "    text = text.strip()\n",
    "\n",
    "    # Remove múltiplos espaços\n",
    "    text = re.sub(r' {2,}', ' ', text)\n",
    "\n",
    "    with open(output_file, 'w', encoding='utf-8') as f:\n",
    "        f.write(text)\n",
    "\n",
    "input_file = 'sen-esquerda.txt'\n",
    "output_file = 'sen-esquerda-limpo.txt'\n",
    "clean_text(input_file, output_file)"
   ]
  },
  {
   "cell_type": "markdown",
   "metadata": {},
   "source": [
    "### Tweets de deputados de extrema-esquerda"
   ]
  },
  {
   "cell_type": "code",
   "execution_count": 21,
   "metadata": {},
   "outputs": [],
   "source": [
    "def clean_text(input_file, output_file):\n",
    "    with open(input_file, 'r', encoding='utf-8') as f:\n",
    "        text = f.read()\n",
    "\n",
    "    # Remove @, *, #, /, :\n",
    "    text = re.sub(r'[@*#/:]', '', text)\n",
    "\n",
    "    # Substitui novas linhas com espaço simples\n",
    "    text = text.replace('\\n', ' ')\n",
    "\n",
    "    # Remove espaços iniciais e finais\n",
    "    text = text.strip()\n",
    "\n",
    "    # Remove múltiplos espaços\n",
    "    text = re.sub(r' {2,}', ' ', text)\n",
    "\n",
    "    with open(output_file, 'w', encoding='utf-8') as f:\n",
    "        f.write(text)\n",
    "\n",
    "input_file = 'dep-exesquerda.txt'\n",
    "output_file = 'dep-exesquerda-limpo.txt'\n",
    "clean_text(input_file, output_file)"
   ]
  },
  {
   "cell_type": "markdown",
   "metadata": {},
   "source": [
    "O corpus não tem senadores de extrema-esquerda."
   ]
  },
  {
   "cell_type": "markdown",
   "metadata": {},
   "source": [
    "### Ajustando arquivos\n",
    "\n",
    "Alguns arquivos são muito grandes para serem abertos e editados. Por isso, tentei adicionar as categorizações para a Classificação Hierárquica Descendente (CHD) usando Python."
   ]
  },
  {
   "cell_type": "code",
   "execution_count": 7,
   "metadata": {},
   "outputs": [],
   "source": [
    "# Teste com um arquivo menor, que eu posso abrir e conferir\n",
    "# Lendo o conteúdo existente no arquivo\n",
    "with open('dep-direita-limpo.txt', 'r', encoding='utf-8') as arquivo:\n",
    "    cont_original = arquivo.read()\n",
    "\n",
    "# Abrindo o arquivo em write mode pra subscrever o conteúdo\n",
    "with open('dep-direita-limpo.txt', 'w', encoding='utf-8') as arquivo:\n",
    "    # Write the new content at the beginning\n",
    "    novo = \"**** *tw_dep *tese\\n\" \\\n",
    "                  \"**** *direita\\n\"\n",
    "    \n",
    "    # Combinando o novo conteúdo com o existente\n",
    "    cont_novo = novo + cont_original\n",
    "    \n",
    "    # Escrevendo o contéudo combinado de volta no arquivo\n",
    "    arquivo.write(cont_novo)\n",
    "\n",
    "    # FUNCIONA!"
   ]
  },
  {
   "cell_type": "code",
   "execution_count": 8,
   "metadata": {},
   "outputs": [],
   "source": [
    "with open('dep-cesquerda-limpo.txt', 'r', encoding='utf-8') as arquivo:\n",
    "    cont_original = arquivo.read()\n",
    "\n",
    "with open('dep-cesquerda-limpo.txt', 'w', encoding='utf-8') as arquivo:\n",
    "    novo = \"**** *tw_dep *tese\\n\" \\\n",
    "                  \"**** *cesquerda\\n\"\n",
    "    \n",
    "    cont_novo = novo + cont_original\n",
    "    \n",
    "    arquivo.write(cont_novo)"
   ]
  },
  {
   "cell_type": "code",
   "execution_count": 9,
   "metadata": {},
   "outputs": [],
   "source": [
    "with open('dep-centro-limpo.txt', 'r', encoding='utf-8') as arquivo:\n",
    "    cont_original = arquivo.read()\n",
    "\n",
    "with open('dep-centro-limpo.txt', 'w', encoding='utf-8') as arquivo:\n",
    "    novo = \"**** *tw_dep *tese\\n\" \\\n",
    "                  \"**** *centro\\n\"\n",
    "    \n",
    "    cont_novo = novo + cont_original\n",
    "    \n",
    "    arquivo.write(cont_novo)"
   ]
  },
  {
   "cell_type": "markdown",
   "metadata": {},
   "source": [
    "## Unindo os arquivos\n",
    "\n",
    "Um arquivo com todo o corpus é grande demais para rodar no Iramuteq. Dividir em dois grupos (deputados x senadores) também não é o bastante. Optei por dividir em seis grupos: \n",
    "\n",
    "| Deputado de esquerda  |\n",
    "| Deputado de direita   |\n",
    "| Deputado de centro   |\n",
    "| Senador de esquerda   |\n",
    "| Senador de direita   |\n",
    "| Senador de centro   |"
   ]
  },
  {
   "cell_type": "code",
   "execution_count": 14,
   "metadata": {},
   "outputs": [],
   "source": [
    "# Arquivos dos deputados de esquerda\n",
    "\n",
    "def unite_text_files(file1, file2, file3, output_file):\n",
    "    with open(file1, 'r', encoding='utf-8') as f1:\n",
    "        content1 = f1.read()\n",
    "\n",
    "    with open(file2, 'r', encoding='utf-8') as f2:\n",
    "        content2 = f2.read()\n",
    "\n",
    "    with open(file3, 'r', encoding='utf-8') as f3:\n",
    "        content3 = f3.read()\n",
    "\n",
    "    combined_content = content1 + content2 + content3\n",
    "\n",
    "    with open(output_file, 'w', encoding='utf-8') as output_f:\n",
    "        output_f.write(combined_content)\n",
    "\n",
    "file1 = 'dep-esquerda-limpo.txt'\n",
    "file2 = 'dep-cesquerda-limpo.txt'\n",
    "file3 = 'dep-exesquerda-limpo.txt'\n",
    "output_file = 'corpus-dep-esquerda.txt'\n",
    "\n",
    "unite_text_files(file1, file2, file3, output_file)"
   ]
  },
  {
   "cell_type": "code",
   "execution_count": 15,
   "metadata": {},
   "outputs": [],
   "source": [
    "# Arquivos dos deputados de direita\n",
    "\n",
    "def unite_text_files(file1, file2, file3, output_file):\n",
    "    with open(file1, 'r', encoding='utf-8') as f1:\n",
    "        content1 = f1.read()\n",
    "\n",
    "    with open(file2, 'r', encoding='utf-8') as f2:\n",
    "        content2 = f2.read()\n",
    "\n",
    "    with open(file3, 'r', encoding='utf-8') as f3:\n",
    "        content3 = f3.read()\n",
    "\n",
    "    combined_content = content1 + content2 + content3\n",
    "\n",
    "    with open(output_file, 'w', encoding='utf-8') as output_f:\n",
    "        output_f.write(combined_content)\n",
    "\n",
    "file1 = 'dep-direita-limpo.txt'\n",
    "file2 = 'dep-cdireita-limpo.txt'\n",
    "file3 = 'dep-exdireita-limpo.txt'\n",
    "output_file = 'corpus-dep-direita.txt'\n",
    "\n",
    "unite_text_files(file1, file2, file3, output_file)"
   ]
  },
  {
   "cell_type": "code",
   "execution_count": 16,
   "metadata": {},
   "outputs": [],
   "source": [
    "# Arquivos dos senadores de esquerda\n",
    "\n",
    "def unite_text_files(file1, file2, output_file):\n",
    "    with open(file1, 'r', encoding='utf-8') as f1:\n",
    "        content1 = f1.read()\n",
    "\n",
    "    with open(file2, 'r', encoding='utf-8') as f2:\n",
    "        content2 = f2.read()\n",
    "\n",
    "    combined_content = content1 + content2\n",
    "\n",
    "    with open(output_file, 'w', encoding='utf-8') as output_f:\n",
    "        output_f.write(combined_content)\n",
    "\n",
    "file1 = 'sen-esquerda-limpo.txt'\n",
    "file2 = 'sen-cesquerda-limpo.txt'\n",
    "output_file = 'corpus-sen-esquerda.txt'\n",
    "\n",
    "unite_text_files(file1, file2, output_file)"
   ]
  },
  {
   "cell_type": "code",
   "execution_count": 17,
   "metadata": {},
   "outputs": [],
   "source": [
    "# Arquivos dos senadores de direita\n",
    "\n",
    "def unite_text_files(file1, file2, file3, output_file):\n",
    "    with open(file1, 'r', encoding='utf-8') as f1:\n",
    "        content1 = f1.read()\n",
    "\n",
    "    with open(file2, 'r', encoding='utf-8') as f2:\n",
    "        content2 = f2.read()\n",
    "\n",
    "    with open(file3, 'r', encoding='utf-8') as f3:\n",
    "        content3 = f3.read()\n",
    "\n",
    "    combined_content = content1 + content2 + content3\n",
    "\n",
    "    with open(output_file, 'w', encoding='utf-8') as output_f:\n",
    "        output_f.write(combined_content)\n",
    "\n",
    "file1 = 'sen-direita-limpo.txt'\n",
    "file2 = 'sen-cdireita-limpo.txt'\n",
    "file3 = 'sen-exdireita-limpo.txt'\n",
    "output_file = 'corpus-sen-direita.txt'\n",
    "\n",
    "unite_text_files(file1, file2, file3, output_file)"
   ]
  }
 ],
 "metadata": {
  "kernelspec": {
   "display_name": "Python 3",
   "language": "python",
   "name": "python3"
  },
  "language_info": {
   "codemirror_mode": {
    "name": "ipython",
    "version": 3
   },
   "file_extension": ".py",
   "mimetype": "text/x-python",
   "name": "python",
   "nbconvert_exporter": "python",
   "pygments_lexer": "ipython3",
   "version": "3.10.11"
  },
  "orig_nbformat": 4
 },
 "nbformat": 4,
 "nbformat_minor": 2
}
