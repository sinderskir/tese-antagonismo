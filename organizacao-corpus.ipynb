{
 "cells": [
  {
   "cell_type": "markdown",
   "metadata": {},
   "source": [
    "## Formando corpus para análise de conteúdo\n",
    "\n",
    "Usando 'pandas' para limpar o df com termos estatisticamente relevantes e filtrar banco de dados original."
   ]
  },
  {
   "cell_type": "code",
   "execution_count": 1,
   "metadata": {},
   "outputs": [],
   "source": [
    "import pandas as pd"
   ]
  },
  {
   "cell_type": "code",
   "execution_count": 56,
   "metadata": {},
   "outputs": [],
   "source": [
    "df = pd.read_csv('termos-relevantes.csv', encoding='utf-8', delimiter=';', header=0)"
   ]
  },
  {
   "cell_type": "code",
   "execution_count": 57,
   "metadata": {},
   "outputs": [
    {
     "name": "stdout",
     "output_type": "stream",
     "text": [
      "    termos_relevantes\n",
      "0           bolsonaro\n",
      "1                lula\n",
      "2          democracia\n",
      "3                ódio\n",
      "4             verdade\n",
      "..                ...\n",
      "418         abandonar\n",
      "419          violento\n",
      "420          estranho\n",
      "421             rigor\n",
      "422         comprovar\n",
      "\n",
      "[423 rows x 1 columns]\n"
     ]
    }
   ],
   "source": [
    "print(df)"
   ]
  },
  {
   "cell_type": "code",
   "execution_count": 58,
   "metadata": {},
   "outputs": [],
   "source": [
    "# Extrair a coluna contendo as palavras\n",
    "coluna_termos = df['termos_relevantes']\n",
    "\n",
    "# Remover palavras duplicadas\n",
    "termos = coluna_termos.drop_duplicates().reset_index(drop=True)"
   ]
  },
  {
   "cell_type": "code",
   "execution_count": 59,
   "metadata": {},
   "outputs": [
    {
     "name": "stdout",
     "output_type": "stream",
     "text": [
      "0       bolsonaro\n",
      "1            lula\n",
      "2      democracia\n",
      "3            ódio\n",
      "4         verdade\n",
      "          ...    \n",
      "418     abandonar\n",
      "419      violento\n",
      "420      estranho\n",
      "421         rigor\n",
      "422     comprovar\n",
      "Name: termos_relevantes, Length: 423, dtype: object\n"
     ]
    }
   ],
   "source": [
    "print(termos)"
   ]
  },
  {
   "cell_type": "code",
   "execution_count": 60,
   "metadata": {},
   "outputs": [],
   "source": [
    "# Criar um novo DataFrame com os termos relevantes únicos\n",
    "termos_df = pd.DataFrame({'termos-relevantes-unicos': termos})\n",
    "\n",
    "# Salvando em um novo arquivo csv\n",
    "termos_df.to_csv('termos-relevantes-unicos.csv', index=False)"
   ]
  },
  {
   "cell_type": "markdown",
   "metadata": {},
   "source": [
    "### Criando um banco de dados filtrado pelos termos relevantes"
   ]
  },
  {
   "cell_type": "code",
   "execution_count": 61,
   "metadata": {},
   "outputs": [],
   "source": [
    "# Lendo o banco de dados da tese\n",
    "tese_df = pd.read_csv('bd_tese_CORRETO_tweets.csv', encoding='utf-8', delimiter=';', header=0)\n",
    "\n",
    "# Lendo o .csv com os termos relevantes\n",
    "termos_relevantes = pd.read_csv('termos-relevantes-unicos.csv')"
   ]
  },
  {
   "cell_type": "code",
   "execution_count": 62,
   "metadata": {},
   "outputs": [],
   "source": [
    "# Verificando e removendo NaN da coluna 'text'\n",
    "tese_df = tese_df.dropna(subset=['text'])"
   ]
  },
  {
   "cell_type": "code",
   "execution_count": 63,
   "metadata": {},
   "outputs": [
    {
     "name": "stdout",
     "output_type": "stream",
     "text": [
      "  termos-relevantes-unicos\n",
      "0                bolsonaro\n",
      "1                     lula\n",
      "2               democracia\n",
      "3                     ódio\n",
      "4                  verdade\n"
     ]
    }
   ],
   "source": [
    "print(termos_relevantes.head())"
   ]
  },
  {
   "cell_type": "code",
   "execution_count": 64,
   "metadata": {},
   "outputs": [
    {
     "name": "stdout",
     "output_type": "stream",
     "text": [
      "      ANO           created_at         PARLAMENTAR GOVERNISMO POSICIONAMENTO  \\\n",
      "0  2022.0  2022/12/29 20:35:54  Deputados Federais        qt1         Centro   \n",
      "1  2022.0  2022/12/29 17:50:26  Deputados Federais        qt1         Centro   \n",
      "2  2022.0  2022/12/14 22:28:34  Deputados Federais        qt1         Centro   \n",
      "3  2022.0  2022/11/17 18:24:47  Deputados Federais        qt1         Centro   \n",
      "4  2022.0  2022/09/21 23:25:03  Deputados Federais        qt1         Centro   \n",
      "\n",
      "  POSICIONAMENTO.1 PARTIDO    screen_name  \\\n",
      "0           Centro    PROS  AcacioFavacho   \n",
      "1           Centro    PROS  AcacioFavacho   \n",
      "2           Centro    PROS  AcacioFavacho   \n",
      "3           Centro    PROS  AcacioFavacho   \n",
      "4           Centro    PROS  AcacioFavacho   \n",
      "\n",
      "                                                text is_quote  ...  \\\n",
      "0  Desejo sucesso ao Senador @randolfeap (Rede/AP...    FALSO  ...   \n",
      "1  Parabenizo o Governador do Amapá @Waldezoficia...    FALSO  ...   \n",
      "2  Um aumento absurdo de 36% na tarifa de energia...    FALSO  ...   \n",
      "3  Desejo ao governador @waldezoficial uma boa re...    FALSO  ...   \n",
      "4  FIM DO #ROLTAXATIVO\\nHoje, 21/09, foi sanciona...    FALSO  ...   \n",
      "\n",
      "                                         description                      url  \\\n",
      "0  Casado com Gabrielly, pai de José Valentino, B...  https://t.co/QylRLqthNz   \n",
      "1  Casado com Gabrielly, pai de José Valentino, B...  https://t.co/QylRLqthNz   \n",
      "2  Casado com Gabrielly, pai de José Valentino, B...  https://t.co/QylRLqthNz   \n",
      "3  Casado com Gabrielly, pai de José Valentino, B...  https://t.co/QylRLqthNz   \n",
      "4  Casado com Gabrielly, pai de José Valentino, B...  https://t.co/QylRLqthNz   \n",
      "\n",
      "   followers_count friends_count listed_count statuses_count favourites_count  \\\n",
      "0           4119.0         426.0         93.0         2609.0             11.0   \n",
      "1           4119.0         426.0         93.0         2609.0             11.0   \n",
      "2           4119.0         426.0         93.0         2609.0             11.0   \n",
      "3           4119.0         426.0         93.0         2609.0             11.0   \n",
      "4           4119.0         426.0         93.0         2609.0             11.0   \n",
      "\n",
      "    account_created_at  verified              profile_url  \n",
      "0  2009/10/27 14:53:28     FALSO  https://t.co/QylRLqthNz  \n",
      "1  2009/10/27 14:53:28     FALSO  https://t.co/QylRLqthNz  \n",
      "2  2009/10/27 14:53:28     FALSO  https://t.co/QylRLqthNz  \n",
      "3  2009/10/27 14:53:28     FALSO  https://t.co/QylRLqthNz  \n",
      "4  2009/10/27 14:53:28     FALSO  https://t.co/QylRLqthNz  \n",
      "\n",
      "[5 rows x 26 columns]\n"
     ]
    }
   ],
   "source": [
    "print(tese_df.head())"
   ]
  },
  {
   "cell_type": "code",
   "execution_count": 65,
   "metadata": {},
   "outputs": [],
   "source": [
    "# Verificando e removendo NaN da lista de termos relevantes\n",
    "termos_relevantes = termos_relevantes.dropna(subset=['termos-relevantes-unicos'])"
   ]
  },
  {
   "cell_type": "code",
   "execution_count": 66,
   "metadata": {},
   "outputs": [],
   "source": [
    "# Criando uma lista com os termos relevantes\n",
    "lista_termos = termos_relevantes['termos-relevantes-unicos'].tolist()"
   ]
  },
  {
   "cell_type": "code",
   "execution_count": 67,
   "metadata": {},
   "outputs": [],
   "source": [
    "# Verificando se a lista de termos não está vazia\n",
    "if not lista_termos:\n",
    "    print(\"A lista de termos relevantes está vazia. Verifique seus dados.\")\n",
    "else:\n",
    "    # Usando `.str.contains` pra filtrar os tweets do tese_df\n",
    "    tweets_analise_df = tese_df[tese_df['text'].str.contains('|'.join(lista_termos), case=False)]\n"
   ]
  },
  {
   "cell_type": "code",
   "execution_count": 68,
   "metadata": {},
   "outputs": [
    {
     "data": {
      "text/plain": [
       "561029"
      ]
     },
     "execution_count": 68,
     "metadata": {},
     "output_type": "execute_result"
    }
   ],
   "source": [
    "len(tweets_analise_df)"
   ]
  },
  {
   "cell_type": "code",
   "execution_count": 70,
   "metadata": {},
   "outputs": [],
   "source": [
    "tweets_analise_df.to_csv('bd_analise_tweets.csv', index=False)"
   ]
  }
 ],
 "metadata": {
  "kernelspec": {
   "display_name": "Python 3",
   "language": "python",
   "name": "python3"
  },
  "language_info": {
   "codemirror_mode": {
    "name": "ipython",
    "version": 3
   },
   "file_extension": ".py",
   "mimetype": "text/x-python",
   "name": "python",
   "nbconvert_exporter": "python",
   "pygments_lexer": "ipython3",
   "version": "3.11.9"
  },
  "orig_nbformat": 4
 },
 "nbformat": 4,
 "nbformat_minor": 2
}
